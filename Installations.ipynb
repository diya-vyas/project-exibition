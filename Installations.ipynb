{
 "cells": [
  {
   "cell_type": "raw",
   "id": "ee2eb993-cbea-410e-8866-462a4db0ad5c",
   "metadata": {},
   "source": [
    "Install cuda, cudnn, monai, pytorch"
   ]
  }
 ],
 "metadata": {
  "kernelspec": {
   "display_name": "Python 3 (ipykernel)",
   "language": "python",
   "name": "python3"
  },
  "language_info": {
   "codemirror_mode": {
    "name": "ipython",
    "version": 3
   },
   "file_extension": ".py",
   "mimetype": "text/x-python",
   "name": "python",
   "nbconvert_exporter": "python",
   "pygments_lexer": "ipython3",
   "version": "3.12.7"
  }
 },
 "nbformat": 4,
 "nbformat_minor": 5
}
