{
 "cells": [
  {
   "cell_type": "raw",
   "id": "fab852dd-2c4c-4398-ad8d-36456edc165b",
   "metadata": {},
   "source": [
    "Create Groups of 64"
   ]
  },
  {
   "cell_type": "code",
   "execution_count": 13,
   "id": "a7a82a6e-9c1c-4216-b683-a28d651ac4b2",
   "metadata": {},
   "outputs": [],
   "source": [
    "in_path = 'D:/Task02_Heart/Project exhibition/dicom_file/labels'\n",
    "out_path = 'D:/Task02_Heart/Project exhibition/dicom_groups/labels'"
   ]
  },
  {
   "cell_type": "code",
   "execution_count": 29,
   "id": "5acc68b7-33ea-4519-a951-42e176e31933",
   "metadata": {},
   "outputs": [],
   "source": [
    "from glob import glob\n",
    "import shutil\n",
    "import os\n",
    "import dicom2nifti\n",
    "import nibabel as nib\n",
    "import numpy as np"
   ]
  },
  {
   "cell_type": "code",
   "execution_count": 17,
   "id": "74323092-734d-4c83-bc76-9c4e46774357",
   "metadata": {},
   "outputs": [],
   "source": [
    "for patient in glob(in_path + '/*'):\n",
    "    patient_name = os.path.basename(os.path.normpath(patient))\n",
    "    number_folders = int(len(glob(patient+'/*'))/64)\n",
    "    for i in range(number_folders):\n",
    "        output_path_name = os.path.join(out_path, patient_name + '_' + str(i))\n",
    "        os.mkdir(output_path_name)\n",
    "        for i, file in enumerate(glob(in_path+'/*')):\n",
    "            if i == 64 + 1:\n",
    "                break\n",
    "            shutil.move(file, output_path_name)"
   ]
  },
  {
   "cell_type": "raw",
   "id": "1cb44631-c82a-4fab-b83a-fcf647bf5c69",
   "metadata": {},
   "source": [
    "Convert dicom to nifties"
   ]
  },
  {
   "cell_type": "code",
   "execution_count": 13,
   "id": "e32d7378-512d-4382-a56d-585f7697b802",
   "metadata": {},
   "outputs": [],
   "source": [
    "in_path_images = 'D:/Task02_Heart/Project exhibition/dicom_groups/images/*'\n",
    "in_path_labels = 'D:/Task02_Heart/Project exhibition/dicom_groups/labels/*'\n",
    "out_path_images = 'D:/Task02_Heart/Project exhibition/nifti_files/images'\n",
    "out_path_labels = 'D:/Task02_Heart/Project exhibition/nifti_files/labels'\n",
    "\n",
    "list_images = sorted(glob(in_path_images))\n",
    "list_labels = sorted(glob(in_path_labels))"
   ]
  },
  {
   "cell_type": "code",
   "execution_count": 15,
   "id": "7514b511-eeda-4f6b-9168-1fc2e46d33a8",
   "metadata": {},
   "outputs": [],
   "source": [
    "for patient in list_images:\n",
    "    patient_name = os.path.basename(os.path.normpath(patient))\n",
    "    dicom2nifti.dicom_series_to_nifti(patient, os.path.join(out_path_images, patient_name + '.nii.gz'))"
   ]
  },
  {
   "cell_type": "code",
   "execution_count": 17,
   "id": "decc0047-5a8f-4bf8-94e8-7413bf78d30a",
   "metadata": {},
   "outputs": [],
   "source": [
    "for patient in list_labels:\n",
    "    patient_name = os.path.basename(os.path.normpath(patient))\n",
    "    dicom2nifti.dicom_series_to_nifti(patient, os.path.join(out_path_labels, patient_name + '.nii.gz'))"
   ]
  },
  {
   "cell_type": "raw",
   "id": "bcdbba99-5a35-493a-9e1b-0538ba1d25cb",
   "metadata": {},
   "source": [
    "Find empty foregrounds and patient data"
   ]
  },
  {
   "cell_type": "code",
   "execution_count": 47,
   "id": "6ca7cf72-0fed-4136-a903-78f26109ccb6",
   "metadata": {
    "scrolled": true
   },
   "outputs": [],
   "source": [
    "input_nifti_file_path = 'D:/Task02_Heart/Project exhibition/nifti_files/labels/*'\n",
    "list_labels = sorted(glob(input_nifti_file_path))\n",
    "\n",
    "for patient in list_labels:\n",
    "    nifti_file = nib.load(patient)\n",
    "    fdata = nifti_file.get_fdata()\n",
    "    np_unique = np.unique(fdata)\n",
    "    if len(np_unique) == 1:\n",
    "        print(patient)"
   ]
  }
 ],
 "metadata": {
  "kernelspec": {
   "display_name": "Python 3 (ipykernel)",
   "language": "python",
   "name": "python3"
  },
  "language_info": {
   "codemirror_mode": {
    "name": "ipython",
    "version": 3
   },
   "file_extension": ".py",
   "mimetype": "text/x-python",
   "name": "python",
   "nbconvert_exporter": "python",
   "pygments_lexer": "ipython3",
   "version": "3.12.7"
  }
 },
 "nbformat": 4,
 "nbformat_minor": 5
}
